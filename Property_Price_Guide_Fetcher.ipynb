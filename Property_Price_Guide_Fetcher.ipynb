{
  "nbformat": 4,
  "nbformat_minor": 0,
  "metadata": {
    "colab": {
      "name": "Property Price Checker 1.0.ipynb",
      "version": "0.3.2",
      "provenance": [],
      "collapsed_sections": [],
      "include_colab_link": true
    },
    "kernelspec": {
      "display_name": "Python 3",
      "language": "python",
      "name": "python3"
    }
  },
  "cells": [
    {
      "cell_type": "markdown",
      "metadata": {
        "id": "view-in-github",
        "colab_type": "text"
      },
      "source": [
        "<a href=\"https://colab.research.google.com/github/adambra/Property-Price-Guide-Fetcher/blob/master/Property_Price_Guide_Fetcher.ipynb\" target=\"_parent\"><img src=\"https://colab.research.google.com/assets/colab-badge.svg\" alt=\"Open In Colab\"/></a>"
      ]
    },
    {
      "metadata": {
        "id": "R4CkDeqGtgU5",
        "colab_type": "text"
      },
      "cell_type": "markdown",
      "source": [
        "# Property Price Guide Fetcher\n",
        "This script allows you to find the price range for a given property listed on [Domain.com.au](https://www.domain.com.au/) where there is no price provided by the agent.\n",
        "It does this by retrieving a property's details then performing a series of searches for different price ranges until it finds the upper and lower limits.\n",
        "\n",
        "See [Medium post](https://medium.com/@alexdambra/how-to-get-aussie-property-price-guides-using-python-the-domain-api-afe871efac96).\n",
        "\n",
        "*Developed by [Alex D'Ambra](https://www.linkedin.com/in/alexdambra/)*\n",
        "\n",
        "\n",
        "---"
      ]
    },
    {
      "metadata": {
        "id": "_Q5qP19B6f2H",
        "colab_type": "text"
      },
      "cell_type": "markdown",
      "source": [
        "Import required libraries"
      ]
    },
    {
      "metadata": {
        "id": "15tnDGBYF3DC",
        "colab_type": "code",
        "colab": {}
      },
      "cell_type": "code",
      "source": [
        "import json\n",
        "import requests # this library is awesome: http://docs.python-requests.org/en/master/\n",
        "import re, string, timeit\n",
        "import time"
      ],
      "execution_count": 0,
      "outputs": []
    },
    {
      "metadata": {
        "id": "M9WV6WDU5k-0",
        "colab_type": "text"
      },
      "cell_type": "markdown",
      "source": [
        "**Setup your parameters**\n",
        "\n",
        "1.   Set your property ID. You can grab from end of the listing's URL.\n",
        "      *eg. https://www.domain.com.au/132a-prince-edward-avenue-earlwood-nsw-2206-2014925785*\n",
        "2.   Set your starting lower bound eg. 500k starting max price. The starting min price will default to your lower bound plus 400k, or you can set this manually. This will reduce the amount of API calls required.\n",
        "3.   Set your increment value. This will increase/decrease the starting prices by this amount until a hit is made. eg. 50k. Smaller increments might be more accurate but increase API calls. Most agents would probably set guides in $50-100k increments one would assume anyway (can you tell I live in Sydney...)\n",
        "\n",
        "\n",
        "\n",
        "\n",
        "\n",
        "\n",
        "\n",
        "\n"
      ]
    },
    {
      "metadata": {
        "id": "DqEx2ror5Ih9",
        "colab_type": "code",
        "cellView": "both",
        "colab": {}
      },
      "cell_type": "code",
      "source": [
        "# setup\n",
        "property_id=\"2014925785\"\n",
        "starting_max_price=1000000\n",
        "increment=50000\n",
        "# when starting min price is zero we'll just use the lower bound plus 400k later on\n",
        "starting_min_price=0"
      ],
      "execution_count": 0,
      "outputs": []
    },
    {
      "metadata": {
        "id": "sr8-kUTO6nBe",
        "colab_type": "text"
      },
      "cell_type": "markdown",
      "source": [
        "Provide your client credentials as per your [Domain](https://developer.domain.com.au) developer account.\n",
        "\n",
        "Required: `client_id` and `client_secret`\n",
        "\n",
        "Make a POST request to receive token."
      ]
    },
    {
      "metadata": {
        "id": "wUdCE2PQF3DL",
        "colab_type": "code",
        "colab": {}
      },
      "cell_type": "code",
      "source": [
        "# POST request for token\n",
        "response = requests.post('https://auth.domain.com.au/v1/connect/token', data = {'client_id':'your_client_id',\"client_secret\":\"your_client_secret\",\"grant_type\":\"client_credentials\",\"scope\":\"api_listings_read\",\"Content-Type\":\"text/json\"})\n",
        "token=response.json()\n",
        "access_token=token[\"access_token\"]"
      ],
      "execution_count": 0,
      "outputs": []
    },
    {
      "metadata": {
        "id": "WWS9yEIl7JwY",
        "colab_type": "text"
      },
      "cell_type": "markdown",
      "source": [
        "Make a GET request to the listings endpoint to retrieve listing info for your selected property."
      ]
    },
    {
      "metadata": {
        "id": "tlwYltsjF3DO",
        "colab_type": "code",
        "colab": {}
      },
      "cell_type": "code",
      "source": [
        "# GET Request for ID\n",
        "url = \"https://api.domain.com.au/v1/listings/\"+property_id\n",
        "auth = {\"Authorization\":\"Bearer \"+access_token}\n",
        "request = requests.get(url,headers=auth)\n",
        "r=request.json()"
      ],
      "execution_count": 0,
      "outputs": []
    },
    {
      "metadata": {
        "id": "xTSeHYiA7YzP",
        "colab_type": "text"
      },
      "cell_type": "markdown",
      "source": [
        "Extract property details"
      ]
    },
    {
      "metadata": {
        "id": "0gqb8ndsF3DS",
        "colab_type": "code",
        "outputId": "6a3b90c9-ebb5-4572-fb4d-ab472be50edf",
        "colab": {
          "base_uri": "https://localhost:8080/",
          "height": 51
        }
      },
      "cell_type": "code",
      "source": [
        "#get details\n",
        "da=r['addressParts']\n",
        "postcode=da['postcode']\n",
        "suburb=da['suburb']\n",
        "bathrooms=r['bathrooms']\n",
        "bedrooms=r['bedrooms']\n",
        "carspaces=r['carspaces']\n",
        "property_type=r['propertyTypes']\n",
        "print(property_type,postcode, suburb, bedrooms, bathrooms,  carspaces)\n",
        "\n",
        "# the below puts all relevant property types into a single string. eg. a property listing can be a 'house' and a 'townhouse'\n",
        "n=0\n",
        "property_type_str=\"\"\n",
        "for p in r['propertyTypes']:\n",
        "  property_type_str=property_type_str+(r['propertyTypes'][int(n)])\n",
        "  n=n+1\n",
        "print(property_type_str)  "
      ],
      "execution_count": 0,
      "outputs": [
        {
          "output_type": "stream",
          "text": [
            "['house'] 2206 Earlwood 4.0 3.0 3.0\n",
            "house\n"
          ],
          "name": "stdout"
        }
      ]
    },
    {
      "metadata": {
        "id": "-wrqbvDR7kQD",
        "colab_type": "text"
      },
      "cell_type": "markdown",
      "source": [
        "Now loop through a series of POST requests that search for your property starting with your starting max price, increasing by your increment each time until you get a result. \n",
        "\n",
        "We achieve this by using a `do while` loop. After receiving a response we put the list of property IDs into a Python list and then check if our original property_id is in that list. "
      ]
    },
    {
      "metadata": {
        "id": "EWbIWtgx75c8",
        "colab_type": "code",
        "colab": {}
      },
      "cell_type": "code",
      "source": [
        "max_price=starting_max_price\n",
        "searching_for_price=True"
      ],
      "execution_count": 0,
      "outputs": []
    },
    {
      "metadata": {
        "id": "Mpz2FiNzF3Dh",
        "colab_type": "code",
        "outputId": "582adf40-9f76-4d18-b451-aa2de5d7fde5",
        "colab": {
          "base_uri": "https://localhost:8080/",
          "height": 306
        }
      },
      "cell_type": "code",
      "source": [
        "# Start your loop\n",
        "while searching_for_price:\n",
        "    \n",
        "    url = \"https://api.domain.com.au/v1/listings/residential/_search\" # Set destination URL here\n",
        "    post_fields ={\n",
        "      \"listingType\":\"Sale\",\n",
        "        \"maxPrice\":max_price,\n",
        "        \"pageSize\":100,\n",
        "      \"propertyTypes\":property_type,\n",
        "      \"minBedrooms\":bedrooms,\n",
        "        \"maxBedrooms\":bedrooms,\n",
        "      \"minBathrooms\":bathrooms,\n",
        "        \"maxBathrooms\":bathrooms,\n",
        "      \"locations\":[\n",
        "        {\n",
        "          \"state\":\"\",\n",
        "          \"region\":\"\",\n",
        "          \"area\":\"\",\n",
        "          \"suburb\":suburb,\n",
        "          \"postCode\":postcode,\n",
        "          \"includeSurroundingSuburbs\":False\n",
        "        }\n",
        "      ]\n",
        "    }\n",
        "\n",
        "    request = requests.post(url,headers=auth,json=post_fields)\n",
        "\n",
        "    l=request.json()\n",
        "    listings = []\n",
        "    for listing in l:\n",
        "        listings.append(listing[\"listing\"][\"id\"])\n",
        "    listings\n",
        "\n",
        "    if int(property_id) in listings:\n",
        "            max_price=max_price-increment\n",
        "            print(\"Lower bound found: \", max_price)\n",
        "            searching_for_price=False\n",
        "    else:\n",
        "        max_price=max_price+increment\n",
        "        print(\"Not found. Increasing max price to \",max_price)\n",
        "        time.sleep(0.1)  # sleep a bit so you don't make too many API calls too quickly   "
      ],
      "execution_count": 0,
      "outputs": [
        {
          "output_type": "stream",
          "text": [
            "Not found. Increasing max price to  1050000\n",
            "Not found. Increasing max price to  1100000\n",
            "Not found. Increasing max price to  1150000\n",
            "Not found. Increasing max price to  1200000\n",
            "Not found. Increasing max price to  1250000\n",
            "Not found. Increasing max price to  1300000\n",
            "Not found. Increasing max price to  1350000\n",
            "Not found. Increasing max price to  1400000\n",
            "Not found. Increasing max price to  1450000\n",
            "Not found. Increasing max price to  1500000\n",
            "Not found. Increasing max price to  1550000\n",
            "Not found. Increasing max price to  1600000\n",
            "Not found. Increasing max price to  1650000\n",
            "Not found. Increasing max price to  1700000\n",
            "Not found. Increasing max price to  1750000\n",
            "Not found. Increasing max price to  1800000\n",
            "Lower bound found:  1750000\n"
          ],
          "name": "stdout"
        }
      ]
    },
    {
      "metadata": {
        "id": "6V7ZIyuT77Ij",
        "colab_type": "text"
      },
      "cell_type": "markdown",
      "source": [
        "Now do the same but from the upper end begining with your starting min price and decreasing by your increment. This will get us an upper bound."
      ]
    },
    {
      "metadata": {
        "id": "m6ZuOlKmF3Dn",
        "colab_type": "code",
        "colab": {}
      },
      "cell_type": "code",
      "source": [
        "searching_for_price=True\n",
        "if starting_min_price>0:\n",
        "  min_price=starting_min_price\n",
        "else:  \n",
        "  min_price=max_price+400000  "
      ],
      "execution_count": 0,
      "outputs": []
    },
    {
      "metadata": {
        "id": "2k6emLYwF3Dr",
        "colab_type": "code",
        "outputId": "bdf3f560-c910-418e-c7a7-d938841c4069",
        "colab": {
          "base_uri": "https://localhost:8080/",
          "height": 153
        }
      },
      "cell_type": "code",
      "source": [
        "while searching_for_price:\n",
        "    \n",
        "    url = \"https://api.domain.com.au/v1/listings/residential/_search\" # Set destination URL here\n",
        "    post_fields ={\n",
        "      \"listingType\":\"Sale\",\n",
        "        \"minPrice\":min_price,\n",
        "        \"pageSize\":100,\n",
        "      \"propertyTypes\":property_type,\n",
        "      \"minBedrooms\":bedrooms,\n",
        "        \"maxBedrooms\":bedrooms,\n",
        "      \"minBathrooms\":bathrooms,\n",
        "        \"maxBathrooms\":bathrooms,\n",
        "      \"locations\":[\n",
        "        {\n",
        "          \"state\":\"\",\n",
        "          \"region\":\"\",\n",
        "          \"area\":\"\",\n",
        "          \"suburb\":suburb,\n",
        "          \"postCode\":postcode,\n",
        "          \"includeSurroundingSuburbs\":False\n",
        "        }\n",
        "      ]\n",
        "    }\n",
        "\n",
        "    request = requests.post(url,headers=auth,json=post_fields)\n",
        "\n",
        "    l=request.json()\n",
        "    listings = []\n",
        "    for listing in l:\n",
        "        listings.append(listing[\"listing\"][\"id\"])\n",
        "    listings\n",
        "\n",
        "    if int(property_id) in listings:\n",
        "            min_price=min_price+increment\n",
        "            print(\"Upper bound found: \", min_price)\n",
        "            searching_for_price=False\n",
        "    else:\n",
        "        min_price=min_price-increment\n",
        "        print(\"Not found. Decreasing min price to \",min_price)\n",
        "        time.sleep(0.1)  # sleep a bit so you don't make too many API calls too quickly     \n",
        "       "
      ],
      "execution_count": 0,
      "outputs": [
        {
          "output_type": "stream",
          "text": [
            "Not found. Decreasing min price to  2100000\n",
            "Not found. Decreasing min price to  2050000\n",
            "Not found. Decreasing min price to  2000000\n",
            "Not found. Decreasing min price to  1950000\n",
            "Not found. Decreasing min price to  1900000\n",
            "Not found. Decreasing min price to  1850000\n",
            "Not found. Decreasing min price to  1800000\n",
            "Upper bound found:  1850000\n"
          ],
          "name": "stdout"
        }
      ]
    },
    {
      "metadata": {
        "id": "SnYfXCSH8J_i",
        "colab_type": "text"
      },
      "cell_type": "markdown",
      "source": [
        "Format your numbers for your final string."
      ]
    },
    {
      "metadata": {
        "id": "CdkRSTRCJ7dD",
        "colab_type": "code",
        "colab": {}
      },
      "cell_type": "code",
      "source": [
        "if max_price<1000000:\n",
        "  lower=max_price/1000\n",
        "  upper=min_price/1000\n",
        "  denom=\"k\"\n",
        "else: \n",
        "  lower=max_price/1000000\n",
        "  upper=min_price/1000000\n",
        "  denom=\"m\""
      ],
      "execution_count": 0,
      "outputs": []
    },
    {
      "metadata": {
        "colab_type": "text",
        "id": "UEH_qQei_cDY"
      },
      "cell_type": "markdown",
      "source": [
        "Print your results!"
      ]
    },
    {
      "metadata": {
        "id": "5UPOgZkTKryx",
        "colab_type": "code",
        "outputId": "eb436077-dbb5-4d03-8a1b-ede7c1217d79",
        "colab": {
          "base_uri": "https://localhost:8080/",
          "height": 136
        }
      },
      "cell_type": "code",
      "source": [
        "# Print the results\n",
        "print(da['displayAddress'])\n",
        "print(r['headline'])\n",
        "print(\"Property Type:\",property_type_str)\n",
        "print(\"Details: \",int(bedrooms),\"bedroom,\",int(bathrooms),\"bathroom,\",int(carspaces),\"carspace\")\n",
        "print(\"Display price:\",r['priceDetails']['displayPrice'])      \n",
        "if max_price==min_price:\n",
        "  print(\"Price guide:\",\"$\",lower,denom)\n",
        "else:\n",
        "  print(\"Price range:\",\"$\",lower,\"-\",\"$\",upper,denom)\n",
        "print(\"URL:\",r['seoUrl'])"
      ],
      "execution_count": 0,
      "outputs": [
        {
          "output_type": "stream",
          "text": [
            "132a Prince Edward Avenue, Earlwood NSW 2206\n",
            "Perfecting the art of modern family life\n",
            "Property Type: house\n",
            "Details:  4 bedroom, 3 bathroom, 3 carspace\n",
            "Display price: Contact Agent\n",
            "Price range: $ 1.75 - $ 1.85 m\n",
            "URL: https://www.domain.com.au/132a-prince-edward-avenue-earlwood-nsw-2206-2014925785\n"
          ],
          "name": "stdout"
        }
      ]
    }
  ]
}